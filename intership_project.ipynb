{
  "nbformat": 4,
  "nbformat_minor": 0,
  "metadata": {
    "colab": {
      "provenance": [],
      "authorship_tag": "ABX9TyM74bp/hPTcAoBFDdUR/RHS",
      "include_colab_link": true
    },
    "kernelspec": {
      "name": "python3",
      "display_name": "Python 3"
    },
    "language_info": {
      "name": "python"
    }
  },
  "cells": [
    {
      "cell_type": "markdown",
      "metadata": {
        "id": "view-in-github",
        "colab_type": "text"
      },
      "source": [
        "<a href=\"https://colab.research.google.com/github/vaijesh0431/project1/blob/main/intership_project.ipynb\" target=\"_parent\"><img src=\"https://colab.research.google.com/assets/colab-badge.svg\" alt=\"Open In Colab\"/></a>"
      ]
    },
    {
      "cell_type": "code",
      "execution_count": null,
      "metadata": {
        "id": "63ZnwPw2HOhl",
        "colab": {
          "base_uri": "https://localhost:8080/"
        },
        "outputId": "a3a9310b-e559-4279-b524-73e13f3743d6"
      },
      "outputs": [
        {
          "output_type": "stream",
          "name": "stdout",
          "text": [
            "Total Votes per Party:\n",
            " Party\n",
            "Party A    66000\n",
            "Party B    39000\n",
            "Party C    21000\n",
            "Name: Votes, dtype: int64\n",
            "\n",
            "Winning Party by Constituency:\n",
            " Constituency\n",
            "A    Party A\n",
            "B    Party A\n",
            "C    Party C\n",
            "D    Party A\n",
            "E    Party A\n",
            "dtype: object\n",
            "\n",
            "Overall Election Winner: Party A\n",
            "\n",
            "Vote Share Percentages:\n",
            "      Candidate  Votes  Vote Share (%)\n",
            "0  Candidate X  15000       11.904762\n",
            "1  Candidate Y  12000        9.523810\n",
            "2  Candidate Z  18000       14.285714\n",
            "3  Candidate P  13000       10.317460\n",
            "4  Candidate Q  10000        7.936508\n",
            "5  Candidate R  11000        8.730159\n",
            "6  Candidate S  17000       13.492063\n",
            "7  Candidate T  14000       11.111111\n",
            "8  Candidate U  16000       12.698413\n",
            "\n",
            "Constituencies with Close Contests: ['C']\n"
          ]
        },
        {
          "output_type": "stream",
          "name": "stderr",
          "text": [
            "<ipython-input-1-8dd429d0b3a0>:22: DeprecationWarning: DataFrameGroupBy.apply operated on the grouping columns. This behavior is deprecated, and in a future version of pandas the grouping columns will be excluded from the operation. Either pass `include_groups=False` to exclude the groupings or explicitly select the grouping columns after groupby to silence this warning.\n",
            "  winning_party_by_constituency = df.groupby(\"Constituency\").apply(get_winning_party)\n"
          ]
        }
      ],
      "source": [
        "import pandas as pd\n",
        "\n",
        "# Sample election results data\n",
        "data = {\n",
        "    \"Party\": [\"Party A\", \"Party B\", \"Party A\", \"Party B\", \"Party C\", \"Party C\", \"Party A\", \"Party B\", \"Party A\"],\n",
        "    \"Candidate\": [\"Candidate X\", \"Candidate Y\", \"Candidate Z\", \"Candidate P\", \"Candidate Q\", \"Candidate R\", \"Candidate S\", \"Candidate T\", \"Candidate U\"],\n",
        "    \"Votes\": [15000, 12000, 18000, 13000, 10000, 11000, 17000, 14000, 16000],\n",
        "    \"Constituency\": [\"A\", \"A\", \"B\", \"B\", \"C\", \"C\", \"D\", \"D\", \"E\"]\n",
        "}\n",
        "\n",
        "# Creating a DataFrame\n",
        "df = pd.DataFrame(data)\n",
        "\n",
        "# Calculate total votes for each party\n",
        "total_votes_by_party = df.groupby(\"Party\")[\"Votes\"].sum()\n",
        "print(\"Total Votes per Party:\\n\", total_votes_by_party)\n",
        "\n",
        "# Identify the winning party in each constituency\n",
        "def get_winning_party(x):\n",
        "    return x.loc[x['Votes'].idxmax(), \"Party\"]\n",
        "\n",
        "winning_party_by_constituency = df.groupby(\"Constituency\").apply(get_winning_party)\n",
        "print(\"\\nWinning Party by Constituency:\\n\", winning_party_by_constituency)\n",
        "\n",
        "# Determine the overall election winner\n",
        "overall_winner = total_votes_by_party.idxmax()\n",
        "print(\"\\nOverall Election Winner:\", overall_winner)\n",
        "\n",
        "# Calculate vote share percentages\n",
        "total_votes = df[\"Votes\"].sum()\n",
        "df[\"Vote Share (%)\"] = (df[\"Votes\"] / total_votes) * 100\n",
        "print(\"\\nVote Share Percentages:\\n\", df[[\"Candidate\", \"Votes\", \"Vote Share (%)\"]])\n",
        "\n",
        "# Identify constituencies with close contests (margin less than 12%)\n",
        "def close_contest(x):\n",
        "    vote_counts = x[\"Votes\"].values\n",
        "    if len(vote_counts) > 1:\n",
        "        vote_counts.sort()\n",
        "        margin = (vote_counts[-1] - vote_counts[-2]) / vote_counts[-1] * 100\n",
        "        return margin < 12.0\n",
        "    return False\n",
        "\n",
        "close_constituencies = df.groupby(\"Constituency\").filter(close_contest)[\"Constituency\"].unique()\n",
        "print(\"\\nConstituencies with Close Contests:\", close_constituencies)\n"
      ]
    }
  ]
}