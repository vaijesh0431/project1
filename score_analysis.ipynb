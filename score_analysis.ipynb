{
  "nbformat": 4,
  "nbformat_minor": 0,
  "metadata": {
    "colab": {
      "provenance": [],
      "authorship_tag": "ABX9TyPcdKqEuNZ6yi4WyIGlv+Am",
      "include_colab_link": true
    },
    "kernelspec": {
      "name": "python3",
      "display_name": "Python 3"
    },
    "language_info": {
      "name": "python"
    }
  },
  "cells": [
    {
      "cell_type": "markdown",
      "metadata": {
        "id": "view-in-github",
        "colab_type": "text"
      },
      "source": [
        "<a href=\"https://colab.research.google.com/github/vaijesh0431/project1/blob/main/score_analysis.ipynb\" target=\"_parent\"><img src=\"https://colab.research.google.com/assets/colab-badge.svg\" alt=\"Open In Colab\"/></a>"
      ]
    },
    {
      "cell_type": "code",
      "execution_count": 1,
      "metadata": {
        "colab": {
          "base_uri": "https://localhost:8080/"
        },
        "id": "SIlz2CR_oZTp",
        "outputId": "ad55abd5-ad7d-4b56-978f-5c188cf19906"
      },
      "outputs": [
        {
          "output_type": "stream",
          "name": "stdout",
          "text": [
            "Total Runs: 354\n",
            "\n",
            "Batting Averages:\n",
            "                Player  Batting Average\n",
            "0        Rohit Sharma         1.500000\n",
            "1            KL Rahul         1.340000\n",
            "2         Virat Kohli         0.904762\n",
            "3    Suryakumar Yadav         1.363636\n",
            "4       Hardik Pandya         1.250000\n",
            "5            MS Dhoni         1.111111\n",
            "6     Ravindra Jadeja         1.250000\n",
            "7   Bhuvneshwar Kumar         2.250000\n",
            "8      Jasprit Bumrah         4.000000\n",
            "9    Yuzvendra Chahal         1.250000\n",
            "10     Mohammed Shami         0.727273\n",
            "\n",
            "Bowling Strike Rates:\n",
            "                Player  Bowling Strike Rate\n",
            "4       Hardik Pandya                  4.0\n",
            "5            MS Dhoni                  inf\n",
            "6     Ravindra Jadeja                  9.0\n",
            "7   Bhuvneshwar Kumar                  6.0\n",
            "8      Jasprit Bumrah                 10.0\n",
            "9    Yuzvendra Chahal                  5.0\n",
            "10     Mohammed Shami                  2.5\n",
            "\n",
            "Top Run-scorer: Suryakumar Yadav\n",
            "Top Wicket-taker: Mohammed Shami\n",
            "\n",
            "Player Points:\n",
            "                Player  Points\n",
            "0        Rohit Sharma       4\n",
            "1            KL Rahul       6\n",
            "2         Virat Kohli       3\n",
            "3    Suryakumar Yadav       7\n",
            "4       Hardik Pandya      22\n",
            "5            MS Dhoni       5\n",
            "6     Ravindra Jadeja      41\n",
            "7   Bhuvneshwar Kumar      61\n",
            "8      Jasprit Bumrah      20\n",
            "9    Yuzvendra Chahal      40\n",
            "10     Mohammed Shami      80\n"
          ]
        }
      ],
      "source": [
        "import pandas as pd\n",
        "\n",
        "# Sample cricket match data\n",
        "data = {\n",
        "    \"Player\": [\"Rohit Sharma\", \"KL Rahul\", \"Virat Kohli\", \"Suryakumar Yadav\", \"Hardik Pandya\",\n",
        "               \"MS Dhoni\", \"Ravindra Jadeja\", \"Bhuvneshwar Kumar\", \"Jasprit Bumrah\", \"Yuzvendra Chahal\", \"Mohammed Shami\"],\n",
        "    \"Runs\": [45, 67, 38, 75, 25, 50, 15, 18, 8, 5, 8],\n",
        "    \"Wickets\": [0, 0, 0, 0, 1, 0, 2, 3, 1, 2, 4],\n",
        "    \"Balls Faced\": [30, 50, 42, 55, 20, 45, 12, 8, 2, 4, 11],\n",
        "    \"Balls Bowled\": [0, 0, 0, 0, 4, 6, 18, 18, 10, 10, 10]\n",
        "}\n",
        "\n",
        "# Create DataFrame\n",
        "match_data = pd.DataFrame(data)\n",
        "\n",
        "# Calculate team total runs\n",
        "total_runs = match_data['Runs'].sum()\n",
        "print(\"Total Runs:\", total_runs)\n",
        "\n",
        "# Calculate batting average for each player\n",
        "match_data['Batting Average'] = match_data['Runs'] / match_data['Balls Faced']\n",
        "print(\"\\nBatting Averages:\\n\", match_data[['Player', 'Batting Average']])\n",
        "\n",
        "# Filter out bowlers who have bowled at least one ball\n",
        "bowlers = match_data[match_data['Balls Bowled'] > 0].copy()\n",
        "\n",
        "# Calculate bowling strike rate (Balls Bowled per Wicket)\n",
        "bowlers['Bowling Strike Rate'] = bowlers['Balls Bowled'] / bowlers['Wickets']\n",
        "print(\"\\nBowling Strike Rates:\\n\", bowlers[['Player', 'Bowling Strike Rate']])\n",
        "\n",
        "# Identify top scorer\n",
        "top_scorer = match_data.loc[match_data['Runs'].idxmax(), 'Player']\n",
        "print(\"\\nTop Run-scorer:\", top_scorer)\n",
        "\n",
        "# Identify top wicket-taker\n",
        "top_wicket_taker = bowlers.loc[bowlers['Wickets'].idxmax(), 'Player']\n",
        "print(\"Top Wicket-taker:\", top_wicket_taker)\n",
        "\n",
        "# Simple points system (1 point per 10 runs, 20 points per wicket)\n",
        "match_data['Points'] = (match_data['Runs'] // 10) + (match_data['Wickets'] * 20)\n",
        "print(\"\\nPlayer Points:\\n\", match_data[['Player', 'Points']])\n"
      ]
    }
  ]
}