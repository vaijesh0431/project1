{
  "nbformat": 4,
  "nbformat_minor": 0,
  "metadata": {
    "colab": {
      "provenance": [],
      "authorship_tag": "ABX9TyO4ccGYFN+pUhE8/9q64i3S",
      "include_colab_link": true
    },
    "kernelspec": {
      "name": "python3",
      "display_name": "Python 3"
    },
    "language_info": {
      "name": "python"
    }
  },
  "cells": [
    {
      "cell_type": "markdown",
      "metadata": {
        "id": "view-in-github",
        "colab_type": "text"
      },
      "source": [
        "<a href=\"https://colab.research.google.com/github/vaijesh0431/project1/blob/main/railway_ticket.ipynb\" target=\"_parent\"><img src=\"https://colab.research.google.com/assets/colab-badge.svg\" alt=\"Open In Colab\"/></a>"
      ]
    },
    {
      "cell_type": "code",
      "execution_count": 1,
      "metadata": {
        "colab": {
          "base_uri": "https://localhost:8080/"
        },
        "id": "xO7tYCnYq0RK",
        "outputId": "9a294bd9-c5be-40f3-8833-08c6d4be0de7"
      },
      "outputs": [
        {
          "output_type": "stream",
          "name": "stdout",
          "text": [
            "\n",
            "Tickets booked successfully!\n",
            "PNR Number: WCWFBLJI94\n",
            "Total Fare: 2400\n",
            "\n",
            "Tickets booked successfully!\n",
            "PNR Number: 7H4OS1WQ3G\n",
            "Total Fare: 3500\n",
            "\n",
            "Updated Train Availability:\n",
            "               Train  Sleeper Seats  AC Seats  Sleeper Price  AC Price\n",
            "0  Shatabdi Express            100       148            500      1200\n",
            "1  Rajdhani Express            145        75            700      1500\n",
            "2        Garib Rath            200        60            300       800\n",
            "3   Duronto Express            120        40            600      1000\n"
          ]
        }
      ],
      "source": [
        "import pandas as pd\n",
        "import random\n",
        "\n",
        "# Sample train data\n",
        "train_data = {\n",
        "    \"Train\": [\"Shatabdi Express\", \"Rajdhani Express\", \"Garib Rath\", \"Duronto Express\"],\n",
        "    \"Sleeper Seats\": [100, 150, 200, 120],\n",
        "    \"AC Seats\": [150, 75, 60, 40],\n",
        "    \"Sleeper Price\": [500, 700, 300, 600],\n",
        "    \"AC Price\": [1200, 1500, 800, 1000]\n",
        "}\n",
        "\n",
        "# Create DataFrame\n",
        "trains = pd.DataFrame(train_data)\n",
        "\n",
        "# Function to check seat availability\n",
        "def check_availability(train, class_type, num_seats):\n",
        "    if train in trains[\"Train\"].values:\n",
        "        index = trains[trains[\"Train\"] == train].index[0]\n",
        "\n",
        "        if class_type == \"Sleeper\":\n",
        "            return trains.loc[index, \"Sleeper Seats\"] >= num_seats\n",
        "        elif class_type == \"AC\":\n",
        "            return trains.loc[index, \"AC Seats\"] >= num_seats\n",
        "        else:\n",
        "            print(\"Invalid class type. Choose 'Sleeper' or 'AC'.\")\n",
        "            return False\n",
        "    else:\n",
        "        print(\"Train not found.\")\n",
        "        return False\n",
        "\n",
        "# Function to book tickets\n",
        "def book_tickets(train, class_type, num_seats):\n",
        "    if check_availability(train, class_type, num_seats):\n",
        "        index = trains[trains[\"Train\"] == train].index[0]\n",
        "\n",
        "        if class_type == \"Sleeper\":\n",
        "            trains.loc[index, \"Sleeper Seats\"] -= num_seats\n",
        "            price = trains.loc[index, \"Sleeper Price\"]\n",
        "        elif class_type == \"AC\":\n",
        "            trains.loc[index, \"AC Seats\"] -= num_seats\n",
        "            price = trains.loc[index, \"AC Price\"]\n",
        "\n",
        "        # Generate a random PNR Number\n",
        "        pnr_number = \"\".join(random.choices(\"123456789ABCDEFGHIJKLMNOPQRSTUVWXYZ\", k=10))\n",
        "\n",
        "        print(\"\\nTickets booked successfully!\")\n",
        "        print(\"PNR Number:\", pnr_number)\n",
        "        print(\"Total Fare:\", price * num_seats)\n",
        "    else:\n",
        "        print(\"\\nBooking failed. Seats not available.\")\n",
        "\n",
        "# Example usage:\n",
        "book_tickets(\"Shatabdi Express\", \"AC\", 2)\n",
        "book_tickets(\"Rajdhani Express\", \"Sleeper\", 5)\n",
        "\n",
        "# Print updated train availability\n",
        "print(\"\\nUpdated Train Availability:\\n\", trains)\n"
      ]
    }
  ]
}